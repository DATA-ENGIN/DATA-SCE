{
  "metadata": {
    "kernelspec": {
      "name": "python",
      "display_name": "Python (Pyodide)",
      "language": "python"
    },
    "language_info": {
      "codemirror_mode": {
        "name": "python",
        "version": 3
      },
      "file_extension": ".py",
      "mimetype": "text/x-python",
      "name": "python",
      "nbconvert_exporter": "python",
      "pygments_lexer": "ipython3",
      "version": "3.8"
    }
  },
  "nbformat_minor": 4,
  "nbformat": 4,
  "cells": [
    {
      "cell_type": "markdown",
      "source": "#\nDATA SCIENCE ECOSYSTEM",
      "metadata": {}
    },
    {
      "cell_type": "markdown",
      "source": "IN THIS NOTEBOOK . DATA SCIENCE TOOLS AND ECOSYSTEM ARE SUMMARISED",
      "metadata": {}
    },
    {
      "cell_type": "markdown",
      "source": "* LIST SOME OF THE LANGUAGES \n* LIST SOME OF LIBRARIES \n* LIST SOME OF THE TOOLS \n\n",
      "metadata": {}
    },
    {
      "cell_type": "markdown",
      "source": "SOME OF THE POPULAR LANGUAGES THAT DATA SCINTISTS USE ARE\n 1. PYTHON\n 2. JULIA\n 3. R\n 4. SCALA\n",
      "metadata": {}
    },
    {
      "cell_type": "markdown",
      "source": "SOME OF THE POPULAR DATA SCIENCE LIBRARIES ARE :\n 1. NUMPY\n 2. PANDAS\n 3. MATPLOTLIP\n 4. SCIPY\n 5. TENSORFLOW\n 6. PYTORCH",
      "metadata": {}
    },
    {
      "cell_type": "markdown",
      "source": "|DATA SCINCE TOOLS |\n|----------------- |\n|VISUAL STUDIO CODE|\n|JUPYTER NOTEBOOK|\n| R STUDIO |",
      "metadata": {}
    },
    {
      "cell_type": "markdown",
      "source": "### BELOW ARE A FEW EXAMPLES OF EVALUATING ARITHMETIC EXPRESSION IN PYTHON\n",
      "metadata": {}
    },
    {
      "cell_type": "code",
      "source": "# THIS LINE OF CODE MULTPLIES AND ADDS INTEGERS\n( 3 * 4 ) + 5",
      "metadata": {
        "trusted": true
      },
      "outputs": [
        {
          "execution_count": 1,
          "output_type": "execute_result",
          "data": {
            "text/plain": "17"
          },
          "metadata": {}
        }
      ],
      "execution_count": 1
    },
    {
      "cell_type": "code",
      "source": "MINUTES = 200 \nMINUTES / 60\n# CONVERT MINUTES TO HOURS ",
      "metadata": {
        "trusted": true
      },
      "outputs": [
        {
          "execution_count": 5,
          "output_type": "execute_result",
          "data": {
            "text/plain": "3.3333333333333335"
          },
          "metadata": {}
        }
      ],
      "execution_count": 5
    },
    {
      "cell_type": "markdown",
      "source": "##",
      "metadata": {}
    }
  ]
}